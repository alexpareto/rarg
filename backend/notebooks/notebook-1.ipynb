{
 "cells": [
  {
   "cell_type": "code",
   "execution_count": 6,
   "metadata": {},
   "outputs": [],
   "source": [
    "import { prisma } from \"./@app/clients\";\n",
    "\n",
    "const result = await prisma.generalCache.findMany();"
   ]
  },
  {
   "cell_type": "code",
   "execution_count": 1,
   "metadata": {},
   "outputs": [],
   "source": [
    "import express from 'express';\n"
   ]
  },
  {
   "cell_type": "code",
   "execution_count": 25,
   "metadata": {},
   "outputs": [
    {
     "name": "stdout",
     "output_type": "stream",
     "text": [
      "DEF\n"
     ]
    }
   ],
   "source": [
    "import { setCacheKey } from \"./@app/inference/cache\";\n",
    "import {getCacheKey, cacheForKeyAsync} from \"./@app/inference/cache\";\n",
    "\n",
    "await setCacheKey(\"ABC\", \"DEF\")\n",
    "let res = await getCacheKey(\"ABC\")\n",
    "res\n",
    "\n"
   ]
  },
  {
   "cell_type": "code",
   "execution_count": 32,
   "metadata": {},
   "outputs": [
    {
     "name": "stdout",
     "output_type": "stream",
     "text": [
      "A1\n",
      "A\n"
     ]
    }
   ],
   "source": [
    "async function test(a: string) {\n",
    "    console.log(\"RUN\", a)\n",
    "    return \"HI\"\n",
    "}\n",
    "let cachedFun = cacheForKeyAsync(\"ABC\")(test)\n",
    "\n",
    "// await test(\"HI\")\n",
    "\n"
   ]
  },
  {
   "cell_type": "code",
   "execution_count": 41,
   "metadata": {},
   "outputs": [],
   "source": [
    "import {testCompletion} from \"./@app/inference/inference\"\n",
    "\n"
   ]
  },
  {
   "cell_type": "code",
   "execution_count": 42,
   "metadata": {},
   "outputs": [
    {
     "name": "stderr",
     "output_type": "stream",
     "text": [
      "TypeError: Cannot read properties of undefined (reading 'findFirst')\n",
      "    at chatCompletion (/Users/skaplan/projects/victor/backend/notebooks/@app/inference/inference.js:59:58)\n",
      "    at Proxy.testCompletion (/Users/skaplan/projects/victor/backend/notebooks/@app/inference/inference.js:116:11)\n",
      "    at evalmachine.<anonymous>:3:36\n",
      "    at evalmachine.<anonymous>:5:3\n",
      "    at sigintHandlersWrap (node:vm:266:12)\n",
      "    at Script.runInThisContext (node:vm:119:14)\n",
      "    at Object.runInThisContext (node:vm:303:38)\n",
      "    at Object.execute (/Users/skaplan/.config/yarn/global/node_modules/tslab/dist/executor.js:160:38)\n",
      "    at JupyterHandlerImpl.handleExecuteImpl (/Users/skaplan/.config/yarn/global/node_modules/tslab/dist/jupyter.js:223:38)\n",
      "    at /Users/skaplan/.config/yarn/global/node_modules/tslab/dist/jupyter.js:181:57\n"
     ]
    }
   ],
   "source": [
    "await testCompletion()"
   ]
  }
 ],
 "metadata": {
  "kernelspec": {
   "display_name": "TypeScript",
   "language": "typescript",
   "name": "tslab"
  },
  "language_info": {
   "codemirror_mode": {
    "mode": "typescript",
    "name": "javascript",
    "typescript": true
   },
   "file_extension": ".ts",
   "mimetype": "text/typescript",
   "name": "typescript",
   "version": "3.7.2"
  }
 },
 "nbformat": 4,
 "nbformat_minor": 2
}
